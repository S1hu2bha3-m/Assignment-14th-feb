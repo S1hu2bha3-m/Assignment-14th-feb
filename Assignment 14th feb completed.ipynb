{
 "cells": [
  {
   "cell_type": "markdown",
   "id": "a18f1a09-40e8-4c74-82fc-51335a761a85",
   "metadata": {},
   "source": [
    "Q1. what is multithreading in python? why is it used? Name the module used to handle threads in python"
   ]
  },
  {
   "cell_type": "markdown",
   "id": "8f7d1aad-a8bf-413f-9694-dc3959dc5d90",
   "metadata": {},
   "source": [
    "Ans. Multithreading in Python refers to the ability of a program to run multiple threads of execution simultaneously. Each thread represents a separate flow of execution within the program, and each thread can execute independently of the others.\n",
    "\n",
    "Multithreading is used to improve the performance of a program by allowing it to perform multiple tasks concurrently.\n",
    "\n",
    "The module used to handle threads in Python is called 'threading'. This module provides a way to create and manage threads in Python programs. It allows you to create new threads, start them, stop them, and manage their state"
   ]
  },
  {
   "cell_type": "markdown",
   "id": "9d90876a-ddda-495d-acf7-3db7b7f43589",
   "metadata": {},
   "source": [
    "Q2. why threading module used? write the use of the following functions\n",
    "1. activeCount()\n",
    "2. currentThread()\n",
    "3.  enumerate()"
   ]
  },
  {
   "cell_type": "markdown",
   "id": "dbffcfa6-331b-4cdc-a805-708255ded3f4",
   "metadata": {},
   "source": [
    "Ans. The threading module is used in Python to create and manage threads of execution within a program. It provides a way to run multiple threads concurrently, which can improve the performance of a program by allowing it to perform multiple tasks at the same time.\n",
    "\n",
    "activeCount() is a function provided by the threading module that returns the number of active threads in the current process. It is useful for debugging and monitoring the progress of a program that uses threads.\n",
    "\n",
    "currentThread() is a function that returns a reference to the current thread object. The thread object provides information about the thread, such as its name, ID, and state. This function is useful when you need to access information about the current thread within the program.\n",
    "\n",
    "enumerate() is a function that returns a list of all the thread objects that are currently active in the process. Each thread object in the list contains information about the thread, such as its name, ID, and state."
   ]
  },
  {
   "cell_type": "markdown",
   "id": "b24f885d-0c7d-4a22-86b1-a2cd12fefbc9",
   "metadata": {},
   "source": [
    "Q3. Explain the following functions\n",
    "1. run()\n",
    "2. start()\n",
    "3. join()\n",
    "4. isAlive()"
   ]
  },
  {
   "cell_type": "markdown",
   "id": "f6dae678-ee67-49ff-a487-2112646725c8",
   "metadata": {},
   "source": [
    "Ans. run(): This function is called when a thread is started using the start() method. It defines the entry point for the thread's execution and contains the code that will be executed in the new thread.\n",
    "\n",
    "start(): This function is used to start a new thread of execution. It creates a new thread object and calls the thread's run() method to start the execution of the thread.\n",
    "\n",
    "join(): This function is used to wait for a thread to complete its execution. When this function is called on a thread object, the calling thread is blocked until the specified thread completes its execution.\n",
    "\n",
    "isAlive(): This function is used to check whether a thread is currently executing or not. It returns True if the thread is currently executing and False otherwise. "
   ]
  },
  {
   "cell_type": "markdown",
   "id": "1fef0654-703d-4d60-9250-4a5e7ab46ea4",
   "metadata": {},
   "source": [
    "Q4. write a python program to create two threads. Thread one must print the list of squares and thread\n",
    "two must print the list of cubes."
   ]
  },
  {
   "cell_type": "code",
   "execution_count": null,
   "id": "03670749-0f8c-47f3-8d76-29183cc2368a",
   "metadata": {},
   "outputs": [],
   "source": [
    "import logging\n",
    "import threading\n",
    "logging.basicConfig(level=logging.DEBUG,\n",
    "                    format='%(threadName)s: %(message)s')\n",
    "\n",
    "def print_squares():\n",
    "    for i in range(1, 11):\n",
    "        logging.debug(i**2)\n",
    "\n",
    "def print_cubes():\n",
    "    for i in range(1, 11):\n",
    "        logging.debug(i**3)\n",
    "\n",
    "thread1 = threading.Thread(target=print_squares, name='Squares')\n",
    "thread2 = threading.Thread(target=print_cubes, name='Cubes')\n",
    "thread1.start()\n",
    "thread2.start()\n",
    "\n",
    "\n",
    "thread1.join()\n",
    "thread2.join()\n"
   ]
  },
  {
   "cell_type": "markdown",
   "id": "b2dc3f07-9415-4338-993f-49c9f58433b8",
   "metadata": {},
   "source": [
    "Q5. State advantages and disadvantages of multithreading"
   ]
  },
  {
   "cell_type": "markdown",
   "id": "4b3558fd-15bc-40ca-83a6-81d82c9b981a",
   "metadata": {},
   "source": [
    "Ans. Multithreading has several advantages and disadvantages:\n",
    "\n",
    "Advantages:\n",
    "\n",
    "Increased performance: Multithreading can improve the performance of a program by allowing it to execute multiple tasks simultaneously, thereby reducing the overall execution time.\n",
    "Resource sharing: Multithreading allows multiple threads to share the same resources, such as memory or CPU time, which can be more efficient than allocating separate resources for each thread.\n",
    "Responsiveness: Multithreading can improve the responsiveness of a program by allowing it to continue processing user input or other events while performing long-running tasks in the background.\n",
    "Better use of resources: Multithreading can help to make better use of available resources, such as CPU time, by allowing multiple threads to execute on the same processor.\n",
    "\n",
    "Disadvantages:\n",
    "\n",
    "Complexity: Multithreaded programs can be more complex than single-threaded programs, and it can be difficult to manage the interactions between threads.\n",
    "Synchronization: Multithreaded programs require careful synchronization of shared resources to avoid race conditions and other concurrency issues.\n",
    "Overhead: Multithreading can introduce overhead, such as the cost of creating and managing threads, which can reduce the performance benefits of using multiple threads.\n",
    "Debugging: Debugging multithreaded programs can be more difficult than debugging single-threaded programs, as the behavior of one thread can affect the behavior of other threads."
   ]
  },
  {
   "cell_type": "markdown",
   "id": "b1d642fc-dd7a-4b3c-b078-5c5409222ef5",
   "metadata": {},
   "source": [
    "Q6. Explain deadlocks and race conditions."
   ]
  },
  {
   "cell_type": "markdown",
   "id": "eb219d59-c869-4aab-a7fc-aa2b30d0a0ca",
   "metadata": {},
   "source": [
    "Ans. Both deadlocks and race conditions are types of concurrency issues that can occur in multithreaded programs.\n",
    "\n",
    "Deadlocks occur when two or more threads are blocked and unable to proceed because each thread is waiting for the other thread to release a resource. This can occur when two threads acquire resources in different orders, leading to a circular dependency. \n",
    "\n",
    "Race conditions occur when the behavior of a program depends on the timing of events, and the order of events is not guaranteed. In other words, the outcome of a program can be influenced by which thread happens to execute first."
   ]
  }
 ],
 "metadata": {
  "kernelspec": {
   "display_name": "Python 3 (ipykernel)",
   "language": "python",
   "name": "python3"
  },
  "language_info": {
   "codemirror_mode": {
    "name": "ipython",
    "version": 3
   },
   "file_extension": ".py",
   "mimetype": "text/x-python",
   "name": "python",
   "nbconvert_exporter": "python",
   "pygments_lexer": "ipython3",
   "version": "3.10.8"
  }
 },
 "nbformat": 4,
 "nbformat_minor": 5
}
